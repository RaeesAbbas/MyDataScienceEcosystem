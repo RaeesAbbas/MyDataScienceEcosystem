{
  "metadata": {
    "kernelspec": {
      "name": "python",
      "display_name": "Python (Pyodide)",
      "language": "python"
    },
    "language_info": {
      "codemirror_mode": {
        "name": "python",
        "version": 3
      },
      "file_extension": ".py",
      "mimetype": "text/x-python",
      "name": "python",
      "nbconvert_exporter": "python",
      "pygments_lexer": "ipython3",
      "version": "3.8"
    }
  },
  "nbformat_minor": 4,
  "nbformat": 4,
  "cells": [
    {
      "cell_type": "markdown",
      "source": "<h1>Data Science Tools and Ecosystem</h1>",
      "metadata": {}
    },
    {
      "cell_type": "markdown",
      "source": "In this notebook, Data Science Tools and Ecosystem are summarized.",
      "metadata": {}
    },
    {
      "cell_type": "markdown",
      "source": "<strong>Objectives:</strong>\n<ul>\n    <li>List popular languages that Data Scientists use</li>\n    <li>List commonly used libraries used by Data Scientists</li>\n    <li>Comment on Data Science tools</li>\n</ul>\n",
      "metadata": {}
    },
    {
      "cell_type": "markdown",
      "source": "Some of the popular languages that Data Scientists use are:\n<ol>\n    <li>Python</li>\n    <li>R</li>\n    <li>SQL</li>\n    <li>Java</li>\n    <li>Julia</li>\n    <li>Scala</li>\n    <li>C/C++</li>\n    <li>JavaScript</li>\n</ol>\n",
      "metadata": {}
    },
    {
      "cell_type": "markdown",
      "source": "Some of the commonly used libraries used by Data Scientists include:\n<ol>\n    <li>TensorFlow</li>\n    <li>NumPy</li>\n    <li>SciPy</li>\n    <li>Pandas</li>\n    <li>Matplotlib</li>\n    <li>Keras</li>\n    <li>SciKit-Learn</li>\n    <li>PyTorch</li>\n    <li>Scrapy</li>\n    <li>BeautifulSoup</li>\n    <li>LightGBM</li>\n    <li>ELI5</li>\n    <li>Theano</li>\n    <li>NuPIC</li>\n    <li>Ramp</li>\n    <li>Pipenv</li>\n    <li>Bob</li>\n    <li>PyBrain</li>\n    <li>Caffe2</li>\n    <li>Chainer</li>\n</ol>",
      "metadata": {}
    },
    {
      "cell_type": "markdown",
      "source": "Data Science Tools:\n\n<table style=\"width:100%\">\n  <tr>\n    <th>Data Science Tools</th>\n  </tr>\n  <tr>\n    <td>Spark SQL</td>   \n  </tr>\n    <tr>\n    <td>ModelDB</td>   \n  </tr>\n  <tr>\n    <td>Hadoop</td>\n  </tr>\n  <tr>\n    <td>Jupyter</td>\n  </tr>\n   <tr>\n    <td>R Studio</td>\n  </tr>\n  <tr>\n    <td>Py Charm</td>\n  </tr>\n  <tr>\n    <td>SuperSet</td>\n  </tr>\n   <tr>\n    <td>PixieDust</td>\n  </tr>\n     <tr>\n    <td>Hue</td>\n  </tr>\n  <tr>\n    <td>TensorFlow Serving</td>\n  </tr>\n   <tr>\n    <td>Kubernetes</td>\n  </tr>\n</table>",
      "metadata": {}
    },
    {
      "cell_type": "markdown",
      "source": "<h3>Below are a few examples of evaluating arithmetic expressions in Python</h3>",
      "metadata": {}
    },
    {
      "cell_type": "code",
      "source": "# This a simple arithmetic expression to mutiply then add integers\n(3*4)+5",
      "metadata": {
        "trusted": true
      },
      "outputs": [
        {
          "execution_count": 3,
          "output_type": "execute_result",
          "data": {
            "text/plain": "17"
          },
          "metadata": {}
        }
      ],
      "execution_count": 3
    },
    {
      "cell_type": "code",
      "source": "#This will convert 200 minutes to hours by diving by 60\nmins = 200\nhours = mins/60\nprint(hours)",
      "metadata": {
        "trusted": true
      },
      "outputs": [
        {
          "name": "stdout",
          "text": "3.3333333333333335\n",
          "output_type": "stream"
        }
      ],
      "execution_count": 4
    },
    {
      "cell_type": "markdown",
      "source": "<h2>Author:</h2> RAEES ABBAS",
      "metadata": {}
    },
    {
      "cell_type": "code",
      "source": "",
      "metadata": {
        "trusted": true
      },
      "outputs": [],
      "execution_count": null
    }
  ]
}